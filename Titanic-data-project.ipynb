{
 "cells": [
  {
   "cell_type": "markdown",
   "metadata": {
    "collapsed": true
   },
   "source": [
    "What factors made people more likely to survive?\n",
    "\n",
    "1)Were people with higher social-economic class had a higher chance in survival rate?\n",
    "2)Did children with parents have a better survival rate vs children without parents?\n",
    "\n",
    "\n",
    "1\tsurvival: Survival (0 = No; 1 = Yes)\n",
    "2\tpclass: Passenger Class (1 = 1st; 2 = 2nd; 3 = 3rd)\n",
    "3\tname: Name\n",
    "4\tsex: Sex\n",
    "5\tage: Age\n",
    "6\tsibsp: Number of Siblings/Spouses Aboard\n",
    "7\tparch: Number of Parents/Children Aboard\n",
    "8\tticket: Ticket Number\n",
    "9\tfare: Passenger Fare\n",
    "10\tcabin: Cabin\n",
    "11 embarked: Port of Embarkation (C = Cherbourg; Q = Queenstown; S = Southampton)\n"
   ]
  },
  {
   "cell_type": "code",
   "execution_count": null,
   "metadata": {
    "collapsed": false
   },
   "outputs": [],
   "source": [
    "%matplotlib inline\n",
    "\n",
    "# Import libraries\n",
    "import pandas as pd\n",
    "import numpy as np\n",
    "import matplotlib.pyplot as plt\n",
    "import seaborn as sns\n",
    "import csv\n",
    "\n",
    "titanic_data= pd.read_csv('titanic-data.csv')"
   ]
  },
  {
   "cell_type": "code",
   "execution_count": null,
   "metadata": {
    "collapsed": false
   },
   "outputs": [],
   "source": [
    "titanic_data.head()"
   ]
  },
  {
   "cell_type": "code",
   "execution_count": null,
   "metadata": {
    "collapsed": false
   },
   "outputs": [],
   "source": [
    "titanic_data_clean= titanic_data.drop(['Name', 'Ticket', 'Fare', 'Cabin', 'Embarked', 'PassengerId'], axis=1)"
   ]
  },
  {
   "cell_type": "code",
   "execution_count": null,
   "metadata": {
    "collapsed": false
   },
   "outputs": [],
   "source": [
    "titanic_data_clean.head()"
   ]
  },
  {
   "cell_type": "code",
   "execution_count": null,
   "metadata": {
    "collapsed": false
   },
   "outputs": [],
   "source": [
    "titanic_clean_duplicate= titanic_data_clean.duplicated()"
   ]
  },
  {
   "cell_type": "code",
   "execution_count": null,
   "metadata": {
    "collapsed": false
   },
   "outputs": [],
   "source": [
    "print (titanic_clean_duplicate.sum())"
   ]
  },
  {
   "cell_type": "code",
   "execution_count": null,
   "metadata": {
    "collapsed": false
   },
   "outputs": [],
   "source": [
    "titanic_clean_duplicate= titanic_data_clean.duplicated('Age')\n",
    "print (titanic_clean_duplicate.sum())"
   ]
  },
  {
   "cell_type": "code",
   "execution_count": null,
   "metadata": {
    "collapsed": false
   },
   "outputs": [],
   "source": [
    "x= titanic_data_clean.isnull()\n",
    "print (x.sum())\n"
   ]
  },
  {
   "cell_type": "code",
   "execution_count": null,
   "metadata": {
    "collapsed": false
   },
   "outputs": [],
   "source": [
    "missed_age =pd.isnull(titanic_data_clean['Age'])\n",
    "titanic_data_clean [missed_age].head()"
   ]
  },
  {
   "cell_type": "code",
   "execution_count": null,
   "metadata": {
    "collapsed": true
   },
   "outputs": [],
   "source": [
    "missing_age_female_survived= titanic_data_clean[missed_age]['Sex']=='female'"
   ]
  },
  {
   "cell_type": "code",
   "execution_count": null,
   "metadata": {
    "collapsed": false
   },
   "outputs": [],
   "source": [
    "missing_age_female_survived.sum()"
   ]
  },
  {
   "cell_type": "code",
   "execution_count": null,
   "metadata": {
    "collapsed": false
   },
   "outputs": [],
   "source": [
    "female_survived=titanic_data_clean['Sex']=='female'\n",
    "male_survived=titanic_data_clean['Sex']=='male'\n",
    "male_survived.sum()"
   ]
  },
  {
   "cell_type": "code",
   "execution_count": null,
   "metadata": {
    "collapsed": false
   },
   "outputs": [],
   "source": [
    "print ('number of female survivors are {} and number fo male survivors are {}'.format(female_survived.sum(),male_survived.sum()))"
   ]
  },
  {
   "cell_type": "code",
   "execution_count": null,
   "metadata": {
    "collapsed": false
   },
   "outputs": [],
   "source": [
    "titanic_data_clean.info()"
   ]
  },
  {
   "cell_type": "code",
   "execution_count": null,
   "metadata": {
    "collapsed": false
   },
   "outputs": [],
   "source": [
    "titanic_data_clean.describe()"
   ]
  },
  {
   "cell_type": "code",
   "execution_count": null,
   "metadata": {
    "collapsed": false
   },
   "outputs": [],
   "source": [
    "titanic_data_clean[titanic_data_clean['Age'] < 1]"
   ]
  },
  {
   "cell_type": "code",
   "execution_count": null,
   "metadata": {
    "collapsed": false
   },
   "outputs": [],
   "source": [
    "young_survived1= titanic_data_clean[titanic_data_clean['Survived']==1]\n",
    "young_survived1.head()"
   ]
  },
  {
   "cell_type": "code",
   "execution_count": null,
   "metadata": {
    "collapsed": false
   },
   "outputs": [],
   "source": [
    "young_survived= young_survived1[titanic_data_clean['Age']<1]\n",
    "young_survived.sum()"
   ]
  },
  {
   "cell_type": "code",
   "execution_count": null,
   "metadata": {
    "collapsed": false
   },
   "outputs": [],
   "source": [
    "youngest_survived =young_survived.min()\n",
    "print ('youngest child who survived was: {}'.format(youngest_survived))"
   ]
  },
  {
   "cell_type": "code",
   "execution_count": null,
   "metadata": {
    "collapsed": false
   },
   "outputs": [],
   "source": [
    "oldest_survived = young_survived1[titanic_data_clean['Age']> 50]\n",
    "oldest_survived.sum()"
   ]
  },
  {
   "cell_type": "code",
   "execution_count": null,
   "metadata": {
    "collapsed": false
   },
   "outputs": [],
   "source": [
    "oldest_survived.max()"
   ]
  },
  {
   "cell_type": "markdown",
   "metadata": {},
   "source": [
    "# Were people with higher social-economic class had a higher chance in survival rate?"
   ]
  },
  {
   "cell_type": "markdown",
   "metadata": {},
   "source": [
    "A summary of data in each class, such as number of survivors, total number of people in that class, sex and age of people,number of their sibilings and parents and,or spouses. "
   ]
  },
  {
   "cell_type": "code",
   "execution_count": null,
   "metadata": {
    "collapsed": true
   },
   "outputs": [],
   "source": [
    "class_one=titanic_data_clean[titanic_data_clean['Pclass']==1]"
   ]
  },
  {
   "cell_type": "code",
   "execution_count": null,
   "metadata": {
    "collapsed": false
   },
   "outputs": [],
   "source": [
    "class_one.sum()"
   ]
  },
  {
   "cell_type": "code",
   "execution_count": null,
   "metadata": {
    "collapsed": false
   },
   "outputs": [],
   "source": [
    "class_two=titanic_data_clean[titanic_data_clean['Pclass']==2]\n",
    "class_three=titanic_data_clean[titanic_data_clean['Pclass']==3]\n",
    "class_two.sum()"
   ]
  },
  {
   "cell_type": "code",
   "execution_count": null,
   "metadata": {
    "collapsed": false
   },
   "outputs": [],
   "source": [
    "class_three.sum()"
   ]
  },
  {
   "cell_type": "code",
   "execution_count": null,
   "metadata": {
    "collapsed": false
   },
   "outputs": [],
   "source": [
    "female_total= titanic_data_clean.groupby(['Sex']).size()['female']\n",
    "\n",
    "print (female_total)"
   ]
  },
  {
   "cell_type": "markdown",
   "metadata": {},
   "source": [
    "##Percentage of different gender survivors in each class compare to the total number of people of that gender."
   ]
  },
  {
   "cell_type": "code",
   "execution_count": null,
   "metadata": {
    "collapsed": false
   },
   "outputs": [],
   "source": [
    "def survived_group(sex, pclass):\n",
    "    grouped_total = titanic_data_clean.groupby(['Pclass', 'Sex', 'Survived']).size()[pclass,sex,1].astype('float')\n",
    "    grouped_gender_total= titanic_data_clean.groupby(['Sex']).size()[sex].astype('float')\n",
    "    percentage= (grouped_total/grouped_gender_total*100).round(2)\n",
    "    return percentage"
   ]
  },
  {
   "cell_type": "code",
   "execution_count": null,
   "metadata": {
    "collapsed": false
   },
   "outputs": [],
   "source": [
    "groupedby_class_survived_size = titanic_data_clean.groupby(['Pclass','Sex','Survived']).size()\n",
    "print (groupedby_class_survived_size)"
   ]
  },
  {
   "cell_type": "code",
   "execution_count": null,
   "metadata": {
    "collapsed": false
   },
   "outputs": [],
   "source": [
    "print ('rate of female survivors in the first class was {}% of all females aboard'.format(survived_group('female',1)))\n",
    "print ('rate of female survivors in the second class was {}%of all females'.format(survived_group('female',2)))\n",
    "print ('rate of female survivors in the third class was {}%of all females'.format(survived_group('female',3)))"
   ]
  },
  {
   "cell_type": "code",
   "execution_count": null,
   "metadata": {
    "collapsed": true
   },
   "outputs": [],
   "source": [
    "def survived_group2(sex, pclass):\n",
    "    grouped_total = titanic_data_clean.groupby(['Pclass', 'Sex', 'Survived']).size()[pclass,sex,1].astype('float')\n",
    "    grouped_gender_total= titanic_data_clean.groupby(['Pclass']).size()[pclass].astype('float')\n",
    "    percentage2= (grouped_total/grouped_gender_total*100).round(2)\n",
    "    return percentage2"
   ]
  },
  {
   "cell_type": "code",
   "execution_count": null,
   "metadata": {
    "collapsed": false
   },
   "outputs": [],
   "source": [
    "print ('rate of female survivors in the first class was {}%of all members of that class'.format(survived_group2('female',1)))"
   ]
  },
  {
   "cell_type": "code",
   "execution_count": null,
   "metadata": {
    "collapsed": false
   },
   "outputs": [],
   "source": [
    "print ('rate of male survivors in the first class was {}%of all members of that class'.format(survived_group2('male',1)))"
   ]
  },
  {
   "cell_type": "code",
   "execution_count": null,
   "metadata": {
    "collapsed": false
   },
   "outputs": [],
   "source": [
    "print ('rate of female survivors in the first class was {}%of all members of that class'.format(survived_group2('female',2)))\n",
    "print ('rate of male survivors in the first class was {}%of all members of that class'.format(survived_group2('male',2)))"
   ]
  },
  {
   "cell_type": "code",
   "execution_count": null,
   "metadata": {
    "collapsed": false
   },
   "outputs": [],
   "source": [
    "print ('rate of female survivors in the first class was {}%of all members of that class'.format(survived_group2('female',3)))\n",
    "print ('rate of male survivors in the first class was {}%of all members of that class'.format(survived_group2('male',3)))"
   ]
  },
  {
   "cell_type": "code",
   "execution_count": null,
   "metadata": {
    "collapsed": false
   },
   "outputs": [],
   "source": [
    "#all the surviversof class 1\n",
    "grouped_class1= titanic_data_clean.groupby(['Pclass','Survived']).size()[1,1].astype('float')\n",
    "grouped_class1.sum()"
   ]
  },
  {
   "cell_type": "code",
   "execution_count": null,
   "metadata": {
    "collapsed": false
   },
   "outputs": [],
   "source": [
    "#all the survivers of class 2\n",
    "grouped_class2= titanic_data_clean.groupby(['Pclass','Survived']).size()[2,1].astype('float')\n",
    "grouped_class2.sum()"
   ]
  },
  {
   "cell_type": "code",
   "execution_count": null,
   "metadata": {
    "collapsed": false
   },
   "outputs": [],
   "source": [
    "#all the survivers of class 3\n",
    "grouped_class3= titanic_data_clean.groupby(['Pclass','Survived']).size()[3,1].astype('float')\n",
    "grouped_class3.sum()"
   ]
  },
  {
   "cell_type": "code",
   "execution_count": null,
   "metadata": {
    "collapsed": false
   },
   "outputs": [],
   "source": [
    "grouped_class3= titanic_data_clean.groupby(['Pclass','Survived']).size()[3,1].astype('float')\n",
    "grouped_classx= titanic_data_clean.groupby(['Pclass']).size()[3].astype('float')\n",
    "print ('of all {} people at the third class only {} people survived '.format(grouped_classx,grouped_class3))\n"
   ]
  },
  {
   "cell_type": "code",
   "execution_count": null,
   "metadata": {
    "collapsed": false
   },
   "outputs": [],
   "source": [
    "import matplotlib.pylab as pylab\n",
    "first_plot = sns.factorplot(x=\"Sex\", y=\"Survived\", col=\"Pclass\", data=titanic_data_clean, \n",
    "                   saturation=.9, kind=\"bar\", ci=None, size=3, aspect=1)\n",
    "\n",
    "first_plot_revised = {'legend.fontsize': 'x-large',\n",
    "          'figure.figsize': (15, 5),\n",
    "         'axes.labelsize': 'x-large',\n",
    "         'axes.titlesize':'x-large',\n",
    "         'xtick.labelsize':'x-large',\n",
    "         'ytick.labelsize':'x-large'}\n",
    "pylab.rcParams.update(first_plot_revised)\n",
    "first_plot.set(ylabel='survival rate')\n",
    "first_plot.set_titles(\"Class {col_name}\")"
   ]
  },
  {
   "cell_type": "markdown",
   "metadata": {},
   "source": [
    "Although data shows that passengers of Class3 had a similar survival rate(119) as those from Class1 (136). However, looking at the percentages of the overall passengers per class and the total numbers across each class, it can be assumed that a passenger from Class1 is about 2.5x times more likely to survive than a passenger in Class3.\n",
    "\n",
    "Therefore, people with higher social-economic class had a higher chance in survival rate:\n",
    "Class 1: 62.96%\n",
    "Class 2: 47.28%\n",
    "Class 3: 24.24%"
   ]
  },
  {
   "cell_type": "markdown",
   "metadata": {},
   "source": [
    "# Did children with parents have a better survival rate vs children without parents?"
   ]
  },
  {
   "cell_type": "markdown",
   "metadata": {},
   "source": [
    "A person with the age less than 18 is define as a child."
   ]
  },
  {
   "cell_type": "code",
   "execution_count": null,
   "metadata": {
    "collapsed": false
   },
   "outputs": [],
   "source": [
    "titanic_data_clean.loc[\n",
    "    (titanic_data_clean['Age'] < 18),\n",
    "    'Category'] = 'Child'"
   ]
  },
  {
   "cell_type": "code",
   "execution_count": null,
   "metadata": {
    "collapsed": false
   },
   "outputs": [],
   "source": [
    "children_with_parents=titanic_data_clean.loc[(titanic_data_clean['Category'] == 'Child') & (titanic_data_clean['Parch'] > 0)]\n",
    "children_with_parents.head()"
   ]
  },
  {
   "cell_type": "code",
   "execution_count": null,
   "metadata": {
    "collapsed": false,
    "scrolled": true
   },
   "outputs": [],
   "source": [
    "children_without_parents=titanic_data_clean.loc[(titanic_data_clean['Category'] == 'Child') & (titanic_data_clean['Parch'] == 0)]\n",
    "children_without_parents.head()"
   ]
  },
  {
   "cell_type": "code",
   "execution_count": null,
   "metadata": {
    "collapsed": false
   },
   "outputs": [],
   "source": [
    "children_with_parents.Survived.sum()"
   ]
  },
  {
   "cell_type": "code",
   "execution_count": null,
   "metadata": {
    "collapsed": false
   },
   "outputs": [],
   "source": [
    "children_without_parents.Survived.sum()"
   ]
  },
  {
   "cell_type": "markdown",
   "metadata": {},
   "source": [
    "Data above shows that number of children survived with parents is almost 3 times as children without parents. Hence we can drew coclusion that children with parents had a better chance of survival compare to children without parents."
   ]
  },
  {
   "cell_type": "markdown",
   "metadata": {},
   "source": [
    "Resources:\n",
    "https://github.com/jasonicarter/DAND_Titanic_Data_Analysis/blob/master/TitanicData.ipynb\n",
    "\n",
    "https://docs.python.org/3/tutorial/\n",
    "\n",
    "https://docs.python.org/2/tutorial/\n",
    "\n",
    "Google.com\n",
    "\n"
   ]
  }
 ],
 "metadata": {
  "anaconda-cloud": {},
  "kernelspec": {
   "display_name": "Python [conda root]",
   "language": "python",
   "name": "conda-root-py"
  },
  "language_info": {
   "codemirror_mode": {
    "name": "ipython",
    "version": 3
   },
   "file_extension": ".py",
   "mimetype": "text/x-python",
   "name": "python",
   "nbconvert_exporter": "python",
   "pygments_lexer": "ipython3",
   "version": "3.5.2"
  }
 },
 "nbformat": 4,
 "nbformat_minor": 1
}
